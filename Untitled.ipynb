{
 "cells": [
  {
   "cell_type": "code",
   "execution_count": 1,
   "id": "9b35cb1b-c40f-400e-bc93-785d28545d60",
   "metadata": {},
   "outputs": [],
   "source": [
    "import pandas as pd"
   ]
  },
  {
   "cell_type": "code",
   "execution_count": 3,
   "id": "713be1c1-6fbf-4ce2-8755-0ae63c8d6180",
   "metadata": {},
   "outputs": [],
   "source": [
    "df = pd.read_csv(\"combined_output.csv\")"
   ]
  },
  {
   "cell_type": "code",
   "execution_count": 4,
   "id": "0c355c40-fac8-47d1-94cb-60946d46e636",
   "metadata": {},
   "outputs": [
    {
     "data": {
      "text/plain": [
       "Index(['Unnamed: 0', 'IMO', 'VesselId', 'VesselObjectId', 'StartDateUTC',\n",
       "       'EndDateUTC', 'LogDurationMinutes', 'PortCallId', 'NoonLogId',\n",
       "       'ME1RunningHoursMinute', 'ME2RunningHoursMinute', 'SpeedOG', 'SpeedTW',\n",
       "       'CorrectedSpeed', 'IdealSpeed', 'SpeedDrop', 'ApparentSlip',\n",
       "       'ME1EffectivePower', 'ME2EffectivePower', 'ME1IdealLightRunPower',\n",
       "       'ME2IdealLightRunPower', 'MEShaftPowerActual', 'MEDeliveredPowerActual',\n",
       "       'AddedPowerWeather', 'CorrectedPowerDelivered', 'PwrDlvOnSpeed',\n",
       "       'PwrDlvOnRPM', 'IdlPwrDlvOnSpeed', 'PwrDlvrDevOnSpeed',\n",
       "       'IdlPwrDlvOnRPM', 'PwrDlvrDevOnRPM', 'ME1ActualRPM', 'ME2ActualRPM',\n",
       "       'CorrectedRPM', 'ISOCorrectedRPM', 'IdealRPM', 'RPMDeviation',\n",
       "       'ISOCorrectedFOC', 'ISOIdealFOC', 'MEFOCDeviation', 'MEFOCIdealPD',\n",
       "       'MEFOCDeviationOnPD', 'MEFOCIdealPDCor', 'MEFOCDeviationOnPDCor',\n",
       "       'MEActualSFOC', 'ISOCorrectedSFOC', 'ISOIdealSFOC', 'ISOSFOCDeviation',\n",
       "       'ME1MCR', 'ME2MCR', 'AutoLogValidityIndex', 'IsSpeedDropValid',\n",
       "       'IsApparentSlipValid', 'IsDeltaFOCMEValid', 'IsDeltaPDOnSpeedValid',\n",
       "       'IsDeltaPDOnRPMValid', 'IsDeltaNpropValid', 'IsDeltaSFOCMEValid',\n",
       "       'AddedFOCEngine', 'AddedFOCSpeedDrop', 'AddedFOCRPM',\n",
       "       'AddedFOCRateEngine', 'AddedFOCRateSpeedDrop', 'AddedFOCRateRPM',\n",
       "       'AddedEnergy', 'AddedFOCHPRolling', 'AddedFOCMERolling', 'BFScale',\n",
       "       'NormPowerDesign', 'IdealPowerDesign', 'CreatedOn', 'WindSpeedUsed',\n",
       "       'MeanDraft'],\n",
       "      dtype='object')"
      ]
     },
     "execution_count": 4,
     "metadata": {},
     "output_type": "execute_result"
    }
   ],
   "source": [
    "df.columns"
   ]
  },
  {
   "cell_type": "code",
   "execution_count": 5,
   "id": "a08a5e21-3783-4c8b-a28f-b823288a4f85",
   "metadata": {},
   "outputs": [],
   "source": [
    "df[\"MEFOCIdealPD-MEFOCIdealPDCor\"] = df[\"MEFOCIdealPD\"] - df[\"MEFOCIdealPDCor\"]"
   ]
  },
  {
   "cell_type": "code",
   "execution_count": 6,
   "id": "0905ab59-23c4-47f0-95b2-206ba2a22263",
   "metadata": {},
   "outputs": [],
   "source": [
    "df[\"MEFOCIdealPD-MEFOCIdealPDCor\"] = df[\"MEFOCIdealPD-MEFOCIdealPDCor\"]* (1440/df[\"ME1RunningHoursMinute\"])"
   ]
  }
 ],
 "metadata": {
  "kernelspec": {
   "display_name": "Python 3 (ipykernel)",
   "language": "python",
   "name": "python3"
  },
  "language_info": {
   "codemirror_mode": {
    "name": "ipython",
    "version": 3
   },
   "file_extension": ".py",
   "mimetype": "text/x-python",
   "name": "python",
   "nbconvert_exporter": "python",
   "pygments_lexer": "ipython3",
   "version": "3.12.7"
  }
 },
 "nbformat": 4,
 "nbformat_minor": 5
}
