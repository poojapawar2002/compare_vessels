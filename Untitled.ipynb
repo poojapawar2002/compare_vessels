{
 "cells": [
  {
   "cell_type": "code",
   "execution_count": 2,
   "id": "9b35cb1b-c40f-400e-bc93-785d28545d60",
   "metadata": {},
   "outputs": [],
   "source": [
    "import pandas as pd\n",
    "import glob\n",
    "import os\n",
    "\n",
    "# Set the folder path where your CSV files are stored\n",
    "folder_path = \"C:\\\\Users\\\\pooja\\\\Downloads\\\\plot histogram\\\\compare_vessels\\\\final_outputs_new\"  # e.g. './data'\n",
    "\n",
    "# Use glob to find all CSV files in the folder\n",
    "csv_files = glob.glob(os.path.join(folder_path, '*.csv'))\n",
    "\n",
    "# Read and concatenate all CSV files\n",
    "df_list = [pd.read_csv(file) for file in csv_files]\n",
    "combined_df = pd.concat(df_list, ignore_index=True)\n",
    "\n",
    "\n",
    "# vessel_id_list = [1004, 1007, 1018]\n",
    "\n",
    "# # Create the new column using np.where or a lambda function\n",
    "# combined_df['FOCWindPower'] = combined_df.apply(\n",
    "#     lambda row: row['FOCWindPowerDeflector'] if row['VesselId'] in vessel_id_list else row['FOCWindPowerNoDeflector'], axis=1\n",
    "# )\n",
    "\n",
    "# Save to a new CSV\n",
    "combined_df.to_csv('final_combined_output_new.csv', index=False)\n"
   ]
  },
  {
   "cell_type": "code",
   "execution_count": 3,
   "id": "e51c7647-36cf-4ee5-a693-94cd959f4a54",
   "metadata": {},
   "outputs": [
    {
     "data": {
      "text/plain": [
       "Index(['IMO', 'VesselId', 'VesselObjectId', 'StartDateUTC', 'EndDateUTC',\n",
       "       'LogDurationMinutes', 'PortCallId', 'NoonLogId',\n",
       "       'ME1RunningHoursMinute', 'ME2RunningHoursMinute', 'SpeedOG', 'SpeedTW',\n",
       "       'CorrectedSpeed', 'IdealSpeed', 'SpeedDrop', 'ApparentSlip',\n",
       "       'ME1EffectivePower', 'ME2EffectivePower', 'ME1IdealLightRunPower',\n",
       "       'ME2IdealLightRunPower', 'MEShaftPowerActual', 'MEDeliveredPowerActual',\n",
       "       'AddedPowerWeather', 'CorrectedPowerDelivered', 'PwrDlvOnSpeed',\n",
       "       'PwrDlvOnRPM', 'IdlPwrDlvOnSpeed', 'PwrDlvrDevOnSpeed',\n",
       "       'IdlPwrDlvOnRPM', 'PwrDlvrDevOnRPM', 'ME1ActualRPM', 'ME2ActualRPM',\n",
       "       'CorrectedRPM', 'ISOCorrectedRPM', 'IdealRPM', 'RPMDeviation',\n",
       "       'ISOCorrectedFOC', 'ISOIdealFOC', 'MEFOCDeviation', 'MEFOCIdealPD',\n",
       "       'MEFOCDeviationOnPD', 'MEFOCIdealPDCor', 'MEFOCDeviationOnPDCor',\n",
       "       'MEActualSFOC', 'ISOCorrectedSFOC', 'ISOIdealSFOC', 'ISOSFOCDeviation',\n",
       "       'ME1MCR', 'ME2MCR', 'AutoLogValidityIndex', 'IsSpeedDropValid',\n",
       "       'IsApparentSlipValid', 'IsDeltaFOCMEValid', 'IsDeltaPDOnSpeedValid',\n",
       "       'IsDeltaPDOnRPMValid', 'IsDeltaNpropValid', 'IsDeltaSFOCMEValid',\n",
       "       'AddedFOCEngine', 'AddedFOCSpeedDrop', 'AddedFOCRPM',\n",
       "       'AddedFOCRateEngine', 'AddedFOCRateSpeedDrop', 'AddedFOCRateRPM',\n",
       "       'AddedEnergy', 'AddedFOCHPRolling', 'AddedFOCMERolling', 'BFScale',\n",
       "       'NormPowerDesign', 'IdealPowerDesign', 'CreatedOn', 'WindSpeedUsed',\n",
       "       'MeanDraft', 'WindSpeed', 'WindDirection', 'Heading', 'AirTemperature',\n",
       "       'AirPressure', 'RelativeWindDirection', 'PowerWindWithDeflector',\n",
       "       'PowerWindNoDeflector', 'SavedFOCbyDeflector', 'FOCWindPowerDeflector',\n",
       "       'FOCWindPowerNoDeflector', 'Unnamed: 0'],\n",
       "      dtype='object')"
      ]
     },
     "execution_count": 3,
     "metadata": {},
     "output_type": "execute_result"
    }
   ],
   "source": [
    "combined_df.columns"
   ]
  },
  {
   "cell_type": "code",
   "execution_count": 9,
   "id": "e4f13d5c-f018-4e08-89ed-c002ca8ebf91",
   "metadata": {},
   "outputs": [],
   "source": [
    "df = pd.read_csv(\"combined_output.csv\")"
   ]
  },
  {
   "cell_type": "code",
   "execution_count": 10,
   "id": "52919ebf-7383-419e-b098-da4cc50cc549",
   "metadata": {},
   "outputs": [
    {
     "data": {
      "text/plain": [
       "Index(['Unnamed: 0', 'IMO', 'VesselId', 'VesselObjectId', 'StartDateUTC',\n",
       "       'EndDateUTC', 'LogDurationMinutes', 'PortCallId', 'NoonLogId',\n",
       "       'ME1RunningHoursMinute', 'ME2RunningHoursMinute', 'SpeedOG', 'SpeedTW',\n",
       "       'CorrectedSpeed', 'IdealSpeed', 'SpeedDrop', 'ApparentSlip',\n",
       "       'ME1EffectivePower', 'ME2EffectivePower', 'ME1IdealLightRunPower',\n",
       "       'ME2IdealLightRunPower', 'MEShaftPowerActual', 'MEDeliveredPowerActual',\n",
       "       'AddedPowerWeather', 'CorrectedPowerDelivered', 'PwrDlvOnSpeed',\n",
       "       'PwrDlvOnRPM', 'IdlPwrDlvOnSpeed', 'PwrDlvrDevOnSpeed',\n",
       "       'IdlPwrDlvOnRPM', 'PwrDlvrDevOnRPM', 'ME1ActualRPM', 'ME2ActualRPM',\n",
       "       'CorrectedRPM', 'ISOCorrectedRPM', 'IdealRPM', 'RPMDeviation',\n",
       "       'ISOCorrectedFOC', 'ISOIdealFOC', 'MEFOCDeviation', 'MEFOCIdealPD',\n",
       "       'MEFOCDeviationOnPD', 'MEFOCIdealPDCor', 'MEFOCDeviationOnPDCor',\n",
       "       'MEActualSFOC', 'ISOCorrectedSFOC', 'ISOIdealSFOC', 'ISOSFOCDeviation',\n",
       "       'ME1MCR', 'ME2MCR', 'AutoLogValidityIndex', 'IsSpeedDropValid',\n",
       "       'IsApparentSlipValid', 'IsDeltaFOCMEValid', 'IsDeltaPDOnSpeedValid',\n",
       "       'IsDeltaPDOnRPMValid', 'IsDeltaNpropValid', 'IsDeltaSFOCMEValid',\n",
       "       'AddedFOCEngine', 'AddedFOCSpeedDrop', 'AddedFOCRPM',\n",
       "       'AddedFOCRateEngine', 'AddedFOCRateSpeedDrop', 'AddedFOCRateRPM',\n",
       "       'AddedEnergy', 'AddedFOCHPRolling', 'AddedFOCMERolling', 'BFScale',\n",
       "       'NormPowerDesign', 'IdealPowerDesign', 'CreatedOn', 'WindSpeedUsed',\n",
       "       'MeanDraft'],\n",
       "      dtype='object')"
      ]
     },
     "execution_count": 10,
     "metadata": {},
     "output_type": "execute_result"
    }
   ],
   "source": [
    "df.columns"
   ]
  }
 ],
 "metadata": {
  "kernelspec": {
   "display_name": "Python 3 (ipykernel)",
   "language": "python",
   "name": "python3"
  },
  "language_info": {
   "codemirror_mode": {
    "name": "ipython",
    "version": 3
   },
   "file_extension": ".py",
   "mimetype": "text/x-python",
   "name": "python",
   "nbconvert_exporter": "python",
   "pygments_lexer": "ipython3",
   "version": "3.12.7"
  }
 },
 "nbformat": 4,
 "nbformat_minor": 5
}
